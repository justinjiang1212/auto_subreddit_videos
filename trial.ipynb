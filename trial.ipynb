{
 "cells": [
  {
   "cell_type": "code",
   "execution_count": 93,
   "metadata": {},
   "outputs": [],
   "source": [
    "import pandas as pd\n",
    "import praw as praw\n",
    "import datetime as dt\n",
    "from gtts import gTTS"
   ]
  },
  {
   "cell_type": "code",
   "execution_count": 60,
   "metadata": {},
   "outputs": [],
   "source": [
    "reddit = praw.Reddit(client_id='dwiIzGyzmAcWuQ', \n",
    "                     client_secret='QXTKGNfgbA0ytJEl_XTaGKMQGyk', \n",
    "                     user_agent='top_comments by /u/Able-Faithlessness44', \n",
    "                     username='Able-Faithlessness44',\n",
    "                    password = '12Ctyisawesome!')"
   ]
  },
  {
   "cell_type": "code",
   "execution_count": 67,
   "metadata": {},
   "outputs": [],
   "source": [
    "url = 'https://www.reddit.com/r/AskReddit/comments/h9gc8e/anyone_who_has_taken_part_in_judge_judy_either_as'\n",
    "submission = reddit.submission(url=url)"
   ]
  },
  {
   "cell_type": "code",
   "execution_count": 103,
   "metadata": {},
   "outputs": [],
   "source": [
    "submission.comments.replace_more(limit=0)\n",
    "top_comments = []\n",
    "top_links = []\n",
    "for top_level_comment in submission.comments:\n",
    "    if top_level_comment.score > 1000:\n",
    "        #top_10[top_level_comment.author.name] = (top_level_comment.body, top_level_comment.permalink)\n",
    "        #top.append((top_level_comment.body, top_level_comment.permalink))\n",
    "        top_comment = top_level_comment.body.replace('\\n', ' ')\n",
    "        top_comment = top_comment.replace('\\t', ' ')\n",
    "        top_comments.append(top_comment)\n",
    "        top_links.append(\"https://www.reddit.com\" + top_level_comment.permalink)"
   ]
  },
  {
   "cell_type": "code",
   "execution_count": 104,
   "metadata": {},
   "outputs": [
    {
     "data": {
      "text/plain": [
       "['I was never on her show, but she presided over my first hearing as a law student in New York in 1977. I was working as a student “law guardian“ defending alleged juvenile delinquents in the Manhattan family court. My very first case was a young fellow who jumped over a turnstile in a subway station with a loaded 38. The court was going to throw the book at him.   Pending the probation department‘s report, which was probably going to be bad, I offered to “take him home” rather than having him spend more time in the grim juvenile facility known as Spofford. There was a bit of an uproar, papers flew and tempers flared. But the judge decided that this was a pretty neat idea.  He slept on the floor of my wife’s and my tiny 17 x 11’ student apartment on Washington Square for 10 nights. We got him a Social Security card, a green card and a job. 30 days later, the judge expunged his record.  Decades later I walked into the kitchen of our home in California and a small TV was on and I heard a voice I had never forgotten. I looked at the screen and there she was - Judge Judy!',\n",
       " \"Maybe 15 years ago my best friend bought a bunch of Magic the Gathering cards on ebay and, when they came in, the majority of the high value cards were missing. This was like a $400-500 order and, for a high school kid, the missing cards were a major issue.    This dragged on for months when they finally got Judge Judy involved. Suprisingly, the show got back to my friend right away asking if he was serious about all of this because if he wanted to move forward they were ready to make contact with the other party. I believe the deal was something like they both would be flew to California, sign over any rights to REALLY sue over this, Judy would make her decision, and both sides would get like $300 for their time.   My friend was over the moon about all of this. Turns out when the letter got to the other party in this case they immediately offered a full refund for the cards. I still wish this would have gone all the way if only to hear my friend Bob explaining Magic: The Gathering to Judge Judy.      Don't mix ebay and M:tG kids. Not even once.\",\n",
       " \"Didn't go in the show, but met her at an event a few years ago.  She's teeny tiny, and every bit as terrifying in person as on camera. That personality is not an act.    She yelled at my husband to hurry up as I posed for a picture with her.  She scared him so much, he dropped the phone and I have an awesome picture of blurry carpet to show for the interaction.\",\n",
       " \"A guy from my high school knocked over some guys motorcycle, and being a punk kid, tried to run away without paying damages. The motorcycle owner sued him and his dad for the insurance deductible. Well, before the show, he's boasting about how he won't take her shit, and he'll tell her off. After the show, he wouldn't talk about it. When the show aired, she made him cry.\",\n",
       " \"It was unscripted, a lot of fun even though I had to see the guy who assaulted me. There's a good couple months of build up to the whole thing where they tell you the accused is calling you a liar and all this stuff. They gave my dad like $20 for being on with me but gave me like $4000.  Someone said that everything is decided before hand but that wasnt my experience. She is the arbitrator of the case. They make it very clear in the contract which I still have.  I really wish I could find my episode.  EDIT: More interesting things I didn't mention people might find interesting  They contacted me after I filed the case in claims court. I was originally planning on filing for the full amount of damages I could (about $9,000) but they can only deal with small claims cases so I agreed to take the lower amount (it guarantees payment instead of hoping that the accused actually pays what they owe).   The audience are all paid actors. I had brought people hoping they could be in the audience but they watched from the green room.   She shares a set with Judge Joe Brown, they just swap out the sets.  It's super dusty on set, I'm guessing they keep it like that so nothing shines in the camera.  2ND EDIT: It looks like the Episode may be [Season 14 Episode 246](https://www.myseries.tv/judge-judy/episodes/season_14/episode_246/) if anyone has contacts or recordings.\",\n",
       " 'I don\\'t remember if this was Judge Judy but my all time favorite case was one that started with a girl listing all the things this guy allegedly stole from her car or something. She says something like \"headphones\" to which the guy replies along the lines of \"ma\\'am there were no headphones in there\". Case closed, it was hilarious scripted or not']"
      ]
     },
     "execution_count": 104,
     "metadata": {},
     "output_type": "execute_result"
    }
   ],
   "source": [
    "top_comments"
   ]
  },
  {
   "cell_type": "code",
   "execution_count": 105,
   "metadata": {},
   "outputs": [
    {
     "data": {
      "text/plain": [
       "['https://www.reddit.com/r/AskReddit/comments/h9gc8e/anyone_who_has_taken_part_in_judge_judy_either_as/fuxax8p/',\n",
       " 'https://www.reddit.com/r/AskReddit/comments/h9gc8e/anyone_who_has_taken_part_in_judge_judy_either_as/fux4jz2/',\n",
       " 'https://www.reddit.com/r/AskReddit/comments/h9gc8e/anyone_who_has_taken_part_in_judge_judy_either_as/fux7roi/',\n",
       " 'https://www.reddit.com/r/AskReddit/comments/h9gc8e/anyone_who_has_taken_part_in_judge_judy_either_as/fuxblyt/',\n",
       " 'https://www.reddit.com/r/AskReddit/comments/h9gc8e/anyone_who_has_taken_part_in_judge_judy_either_as/fuwpboh/',\n",
       " 'https://www.reddit.com/r/AskReddit/comments/h9gc8e/anyone_who_has_taken_part_in_judge_judy_either_as/fuwo8df/']"
      ]
     },
     "execution_count": 105,
     "metadata": {},
     "output_type": "execute_result"
    }
   ],
   "source": [
    "top_links"
   ]
  },
  {
   "cell_type": "code",
   "execution_count": 108,
   "metadata": {},
   "outputs": [],
   "source": [
    "myobj = gTTS(text=top_comments[0], lang='en-uk', slow=False)"
   ]
  },
  {
   "cell_type": "code",
   "execution_count": 109,
   "metadata": {},
   "outputs": [],
   "source": [
    "myobj.save(\"welcome.mp3\") "
   ]
  },
  {
   "cell_type": "code",
   "execution_count": 117,
   "metadata": {},
   "outputs": [],
   "source": [
    "import pyttsx3\n",
    "pyttsx3.init(driverName='nsss') \n",
    "engine.save_to_file(top_comments[0] , 'test.mp3')"
   ]
  },
  {
   "cell_type": "code",
   "execution_count": null,
   "metadata": {},
   "outputs": [],
   "source": []
  }
 ],
 "metadata": {
  "kernelspec": {
   "display_name": "Python 3",
   "language": "python",
   "name": "python3"
  },
  "language_info": {
   "codemirror_mode": {
    "name": "ipython",
    "version": 3
   },
   "file_extension": ".py",
   "mimetype": "text/x-python",
   "name": "python",
   "nbconvert_exporter": "python",
   "pygments_lexer": "ipython3",
   "version": "3.7.3"
  }
 },
 "nbformat": 4,
 "nbformat_minor": 4
}
